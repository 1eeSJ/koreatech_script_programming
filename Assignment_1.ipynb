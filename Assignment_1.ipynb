{
 "cells": [
  {
   "cell_type": "markdown",
   "id": "62be6bda",
   "metadata": {},
   "source": [
    "# 스크립트 프로그래밍"
   ]
  },
  {
   "cell_type": "markdown",
   "id": "97fe3c4b",
   "metadata": {},
   "source": [
    "* 과제1"
   ]
  },
  {
   "cell_type": "markdown",
   "id": "e699a242",
   "metadata": {},
   "source": [
    "* 이름 : 이승준,   학번 : 2018136087"
   ]
  },
  {
   "cell_type": "code",
   "execution_count": 9,
   "id": "1c50f1b3",
   "metadata": {},
   "outputs": [
    {
     "name": "stdout",
     "output_type": "stream",
     "text": [
      "Python Hello\n"
     ]
    }
   ],
   "source": [
    "a=\"Hello Python\"\n",
    "a=a[6:]+a[5]+a[0:5]\n",
    "print(a)"
   ]
  },
  {
   "cell_type": "code",
   "execution_count": 8,
   "id": "d0b354fd",
   "metadata": {},
   "outputs": [
    {
     "name": "stdout",
     "output_type": "stream",
     "text": [
      "World Python Hello\n"
     ]
    }
   ],
   "source": [
    "b=\"Hello Python World\"\n",
    "b=b[13:]+b[5:12]+b[5]+b[:5]\n",
    "print(b)"
   ]
  },
  {
   "cell_type": "code",
   "execution_count": 11,
   "id": "6a21ed14",
   "metadata": {},
   "outputs": [
    {
     "name": "stdout",
     "output_type": "stream",
     "text": [
      "olleH\n"
     ]
    }
   ],
   "source": [
    "c=\"Hello\"\n",
    "c=c[4]+c[3]+c[2]+c[1]+c[0]\n",
    "print(c)"
   ]
  },
  {
   "cell_type": "code",
   "execution_count": 61,
   "id": "af1de9c2",
   "metadata": {},
   "outputs": [
    {
     "name": "stdout",
     "output_type": "stream",
     "text": [
      "p p p\n"
     ]
    }
   ],
   "source": [
    "s=\"python\"\n",
    "print(s[0],s[0][0],s[0][0][0])"
   ]
  },
  {
   "cell_type": "markdown",
   "id": "c0e143c2",
   "metadata": {},
   "source": [
    "* s[0] 주소 안의 값이 p이고 s[0][0]는 2차원 리스트로 리스트의 (0, 0)번째를 가져오는 것이므로 p가 되고 만약 s[0][1]을 할 경우 \n",
    "    범위를 벗어나기 때문에 오류가 날 것입니다. 3차원 리스트 또한 같은 방식으로 p가 나오는 것을 볼 수 있습니다."
   ]
  },
  {
   "cell_type": "code",
   "execution_count": 22,
   "id": "ec979251",
   "metadata": {},
   "outputs": [
    {
     "ename": "IndexError",
     "evalue": "string index out of range",
     "output_type": "error",
     "traceback": [
      "\u001b[1;31m---------------------------------------------------------------------------\u001b[0m",
      "\u001b[1;31mIndexError\u001b[0m                                Traceback (most recent call last)",
      "\u001b[1;32m<ipython-input-22-6d81aee69bed>\u001b[0m in \u001b[0;36m<module>\u001b[1;34m\u001b[0m\n\u001b[1;32m----> 1\u001b[1;33m \u001b[0mprint\u001b[0m\u001b[1;33m(\u001b[0m\u001b[0ms\u001b[0m\u001b[1;33m[\u001b[0m\u001b[1;33m-\u001b[0m\u001b[1;36m100\u001b[0m\u001b[1;33m]\u001b[0m\u001b[1;33m)\u001b[0m\u001b[1;33m\u001b[0m\u001b[1;33m\u001b[0m\u001b[0m\n\u001b[0m\u001b[0;32m      2\u001b[0m \u001b[0mprint\u001b[0m\u001b[1;33m(\u001b[0m\u001b[0ms\u001b[0m\u001b[1;33m[\u001b[0m\u001b[1;36m100\u001b[0m\u001b[1;33m]\u001b[0m\u001b[1;33m)\u001b[0m\u001b[1;33m\u001b[0m\u001b[1;33m\u001b[0m\u001b[0m\n",
      "\u001b[1;31mIndexError\u001b[0m: string index out of range"
     ]
    }
   ],
   "source": [
    "print(s[-100])\n",
    "print(s[100])"
   ]
  },
  {
   "cell_type": "markdown",
   "id": "ce7cb3a3",
   "metadata": {},
   "source": [
    "* 오류가 나는 이유는 s의 인덱스 크기를 벗어난 값을 가져오려고 하였기 때문입니다."
   ]
  },
  {
   "cell_type": "code",
   "execution_count": 23,
   "id": "7e99fcaa",
   "metadata": {},
   "outputs": [
    {
     "ename": "TypeError",
     "evalue": "string indices must be integers",
     "output_type": "error",
     "traceback": [
      "\u001b[1;31m---------------------------------------------------------------------------\u001b[0m",
      "\u001b[1;31mTypeError\u001b[0m                                 Traceback (most recent call last)",
      "\u001b[1;32m<ipython-input-23-c209b42beee1>\u001b[0m in \u001b[0;36m<module>\u001b[1;34m\u001b[0m\n\u001b[1;32m----> 1\u001b[1;33m \u001b[0mprint\u001b[0m\u001b[1;33m(\u001b[0m\u001b[0ms\u001b[0m\u001b[1;33m[\u001b[0m\u001b[1;33m-\u001b[0m\u001b[1;36m100\u001b[0m\u001b[1;33m,\u001b[0m \u001b[1;36m100\u001b[0m\u001b[1;33m]\u001b[0m\u001b[1;33m)\u001b[0m\u001b[1;33m\u001b[0m\u001b[1;33m\u001b[0m\u001b[0m\n\u001b[0m",
      "\u001b[1;31mTypeError\u001b[0m: string indices must be integers"
     ]
    }
   ],
   "source": [
    "print(s[-100, 100])"
   ]
  },
  {
   "cell_type": "markdown",
   "id": "c1099822",
   "metadata": {},
   "source": [
    "* 위의 오류처럼 같은 이유로 범위를 벗어났기 때문에 오류가 발생합니다."
   ]
  },
  {
   "cell_type": "code",
   "execution_count": 24,
   "id": "ec442808",
   "metadata": {},
   "outputs": [
    {
     "name": "stdout",
     "output_type": "stream",
     "text": [
      "ytho\n"
     ]
    }
   ],
   "source": [
    "print(s[1:-1])"
   ]
  },
  {
   "cell_type": "markdown",
   "id": "c8870ca4",
   "metadata": {},
   "source": [
    "* s의 값 python의 리스트는 0 1 2 3 4 5 또는 -6 -5 -4 -3 -2 -1 의 인덱스 값을 갖기 때문에 s[1] 부터 s[-1] 전까지 출력하면 ytho가 나온다"
   ]
  },
  {
   "cell_type": "code",
   "execution_count": 25,
   "id": "c44270b7",
   "metadata": {},
   "outputs": [
    {
     "name": "stdout",
     "output_type": "stream",
     "text": [
      "\n"
     ]
    }
   ],
   "source": [
    "print(s[3:-3])"
   ]
  },
  {
   "cell_type": "markdown",
   "id": "73ad5518",
   "metadata": {},
   "source": [
    "* 위에 설명한 것처럼 인덱스 값이 3과 -3인 s[3]과 s[-3]은 \"h\"로 같으므로 값이 출력되지 않는다."
   ]
  },
  {
   "cell_type": "code",
   "execution_count": 32,
   "id": "8ee4e1c1",
   "metadata": {},
   "outputs": [
    {
     "name": "stdout",
     "output_type": "stream",
     "text": [
      "1 3 5 7 9 11 13 15 17 19 21 23 25 27 29 31 33 35 37 39 41 43 45 47 49 51 53 55 57 59 61 63 65 67 69 71 73 75 77 79 81 83 85 87 89 91 93 95 97 99 "
     ]
    }
   ],
   "source": [
    "for n in range(1,100,+2):\n",
    "    print(n ,end=' ')"
   ]
  },
  {
   "cell_type": "code",
   "execution_count": 33,
   "id": "e9f015e9",
   "metadata": {},
   "outputs": [
    {
     "name": "stdout",
     "output_type": "stream",
     "text": [
      "2 4 6 8 10 12 14 16 18 20 22 24 26 28 30 32 34 36 38 40 42 44 46 48 50 52 54 56 58 60 62 64 66 68 70 72 74 76 78 80 82 84 86 88 90 92 94 96 98 100 "
     ]
    }
   ],
   "source": [
    "num = 0\n",
    "while num < 100:\n",
    "    num = num + 2\n",
    "    print(num, end=' ')"
   ]
  },
  {
   "cell_type": "code",
   "execution_count": 33,
   "id": "997e0634",
   "metadata": {},
   "outputs": [
    {
     "name": "stdout",
     "output_type": "stream",
     "text": [
      "정수를 입력하세요:15\n",
      "숫자의 역순은 51 입니다.\n"
     ]
    }
   ],
   "source": [
    "num = input(\"정수를 입력하세요:\")\n",
    "print(\"숫자의 역순은 \",end='')\n",
    "for n in range(len(num)-1,-1, -1):\n",
    "    print(num[n],end='')\n",
    "print(\" 입니다.\")"
   ]
  },
  {
   "cell_type": "code",
   "execution_count": 49,
   "id": "3f3b954d",
   "metadata": {},
   "outputs": [
    {
     "name": "stdout",
     "output_type": "stream",
     "text": [
      "정수 입력: 15\n",
      "2 3 5 7 11 13 "
     ]
    }
   ],
   "source": [
    "num = int(input(\"정수 입력: \"))\n",
    "for i in range(2,num+1) :\n",
    "    PrimeChk=True\n",
    "    for j in range(2, i):\n",
    "        if i%j == 0:\n",
    "            PrimeChk=False\n",
    "            break\n",
    "    if PrimeChk==True:\n",
    "        print(i , end=' ')\n",
    "            "
   ]
  },
  {
   "cell_type": "code",
   "execution_count": 36,
   "id": "a7dc1189",
   "metadata": {},
   "outputs": [
    {
     "name": "stdout",
     "output_type": "stream",
     "text": [
      "string S를 입력하세요: BANANA\n",
      "승자: Stuart 점수: 12 \n"
     ]
    }
   ],
   "source": [
    "CountSTUART = 0\n",
    "CountKEVIN = 0\n",
    "S = input(\"string S를 입력하세요: \")\n",
    "for n in range(len(S),0,-1):\n",
    "    for i in range(0,n):\n",
    "        if S[i] == 'A' or S[i] == 'E' or S[i] == 'I' or S[i] == 'O' or S[i] == 'U' :\n",
    "            CountKEVIN = CountKEVIN + 1\n",
    "        else :\n",
    "            CountSTUART = CountSTUART + 1\n",
    "\n",
    "if CountSTUART > CountKEVIN:\n",
    "    print(\"승자: Stuart 점수: %d \" %CountSTUART)\n",
    "else :\n",
    "    print(\"승자: Kevin 점수: %d \" %CountKEVIN)\n"
   ]
  },
  {
   "cell_type": "code",
   "execution_count": 54,
   "id": "ac58f2c7",
   "metadata": {},
   "outputs": [
    {
     "name": "stdout",
     "output_type": "stream",
     "text": [
      "s = hackerhappy\n",
      "t = hackerrank\n",
      "k = 9\n",
      "=> Yes\n"
     ]
    }
   ],
   "source": [
    "def appendDelete(s, t, k):\n",
    "    count = 0\n",
    "    chk = True\n",
    "    if len(s) > len(t):\n",
    "        length = len(t)\n",
    "    else:\n",
    "        length = len(s)\n",
    "    \n",
    "    for n in range(0,length):\n",
    "        if s[n] != t[n]:\n",
    "            count = len(s) + len(t) - 2*n\n",
    "            chk = False\n",
    "            break\n",
    "    if chk == True:\n",
    "        count = len(s) - len(t)\n",
    "    if count <= k:\n",
    "        return 'Yes'\n",
    "    else:\n",
    "        return 'No'\n",
    "    \n",
    "s = input(\"s = \")\n",
    "t = input(\"t = \")\n",
    "k = int(input(\"k = \"))\n",
    "print(\"=> %s\" %appendDelete(s, t, k))"
   ]
  }
 ],
 "metadata": {
  "kernelspec": {
   "display_name": "Python 3",
   "language": "python",
   "name": "python3"
  },
  "language_info": {
   "codemirror_mode": {
    "name": "ipython",
    "version": 3
   },
   "file_extension": ".py",
   "mimetype": "text/x-python",
   "name": "python",
   "nbconvert_exporter": "python",
   "pygments_lexer": "ipython3",
   "version": "3.8.8"
  }
 },
 "nbformat": 4,
 "nbformat_minor": 5
}
